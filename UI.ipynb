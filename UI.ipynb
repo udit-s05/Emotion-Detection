{
 "cells": [
  {
   "cell_type": "code",
   "execution_count": 14,
   "id": "8fcfda4c-5756-4a49-b652-9e68b33d9372",
   "metadata": {},
   "outputs": [
    {
     "name": "stdout",
     "output_type": "stream",
     "text": [
      "Predicted Emotions: joy, sadness\n"
     ]
    }
   ],
   "source": [
    "import torch\n",
    "from transformers import BertTokenizer, BertForSequenceClassification\n",
    "\n",
    "tokenizer = BertTokenizer.from_pretrained('best_model_bert')\n",
    "model = BertForSequenceClassification.from_pretrained('best_model_bert')\n",
    "device = torch.device(\"cuda\" if torch.cuda.is_available() else \"cpu\")\n",
    "model.to(device)\n",
    "\n",
    "emotion_labels = [\"anger\", \"fear\", \"joy\", \"sadness\", \"surprise\"]\n",
    "\n",
    "text = \"ayush is sad and slightly happy\"\n",
    "\n",
    "inputs = tokenizer(text, return_tensors='pt', padding=True, truncation=True, max_length=512)\n",
    "inputs = {key: value.to(device) for key, value in inputs.items()}\n",
    "\n",
    "model.eval()\n",
    "\n",
    "with torch.no_grad():\n",
    "    outputs = model(**inputs)\n",
    "    logits = outputs.logits\n",
    "\n",
    "probabilities = torch.sigmoid(logits)\n",
    "\n",
    "predictions = (probabilities > 0.5).int()\n",
    "\n",
    "predicted_emotions = [emotion_labels[i] for i in range(len(predictions[0])) if predictions[0][i] == 1]\n",
    "\n",
    "if predicted_emotions:\n",
    "    print(\"Predicted Emotions:\", \", \".join(predicted_emotions))\n",
    "else:\n",
    "    print(\"No emotions predicted\")\n"
   ]
  },
  {
   "cell_type": "code",
   "execution_count": 15,
   "id": "71c85734-7c30-4bfb-bcc1-1572978575b9",
   "metadata": {},
   "outputs": [
    {
     "name": "stdout",
     "output_type": "stream",
     "text": [
      "Running on local URL:  http://127.0.0.1:7870\n",
      "\n",
      "To create a public link, set `share=True` in `launch()`.\n"
     ]
    },
    {
     "data": {
      "text/html": [
       "<div><iframe src=\"http://127.0.0.1:7870/\" width=\"100%\" height=\"500\" allow=\"autoplay; camera; microphone; clipboard-read; clipboard-write;\" frameborder=\"0\" allowfullscreen></iframe></div>"
      ],
      "text/plain": [
       "<IPython.core.display.HTML object>"
      ]
     },
     "metadata": {},
     "output_type": "display_data"
    },
    {
     "data": {
      "text/plain": []
     },
     "execution_count": 15,
     "metadata": {},
     "output_type": "execute_result"
    }
   ],
   "source": [
    "import torch\n",
    "from transformers import BertTokenizer, BertForSequenceClassification\n",
    "import gradio as gr\n",
    "\n",
    "# Load the tokenizer and the new intensity prediction model\n",
    "tokenizer = BertTokenizer.from_pretrained('best_model_bert_intensity')\n",
    "model = BertForSequenceClassification.from_pretrained('best_model_bert_intensity')\n",
    "device = torch.device(\"cuda\" if torch.cuda.is_available() else \"cpu\")\n",
    "model.to(device)\n",
    "\n",
    "emotion_labels = [\"anger\", \"fear\", \"joy\", \"sadness\", \"surprise\"]\n",
    "\n",
    "def predict_emotions_intensity(text):\n",
    "    inputs = tokenizer(text, return_tensors='pt', padding=True, truncation=True, max_length=512)\n",
    "    inputs = {key: value.to(device) for key, value in inputs.items()}\n",
    "\n",
    "    model.eval()\n",
    "    with torch.no_grad():\n",
    "        outputs = model(**inputs)\n",
    "        logits = outputs.logits\n",
    "\n",
    "    probabilities = torch.sigmoid(logits).squeeze().cpu().numpy()\n",
    "    emotion_intensity = [(emotion_labels[i], probabilities[i]) for i in range(len(probabilities))]\n",
    "    emotion_intensity.sort(key=lambda x: x[1], reverse=True)\n",
    "    intensity_predictions = [f\"{emotion}: {intensity:.2f}\" for emotion, intensity in emotion_intensity]\n",
    "\n",
    "    return \", \".join(intensity_predictions)\n",
    "\n",
    "interface = gr.Interface(\n",
    "    fn=predict_emotions_intensity,\n",
    "    inputs=\"text\",\n",
    "    outputs=\"text\",\n",
    "    title=\"Emotion Intensity Detection\",\n",
    "    description=\"Enter text to get the intensity of emotions (0-1 scale)\",\n",
    "    examples=[[\"I am feeling happy\"], [\"This is a really sad day\"], [\"I'm so angry and frustrated\"], [\"I got a gift.\"]]\n",
    ")\n",
    "\n",
    "interface.launch()\n"
   ]
  },
  {
   "cell_type": "code",
   "execution_count": null,
   "id": "4dea31a9-db07-4fad-a1d5-26d3a2ca2712",
   "metadata": {},
   "outputs": [],
   "source": []
  }
 ],
 "metadata": {
  "kernelspec": {
   "display_name": "Python 3 (ipykernel)",
   "language": "python",
   "name": "python3"
  },
  "language_info": {
   "codemirror_mode": {
    "name": "ipython",
    "version": 3
   },
   "file_extension": ".py",
   "mimetype": "text/x-python",
   "name": "python",
   "nbconvert_exporter": "python",
   "pygments_lexer": "ipython3",
   "version": "3.9.20"
  }
 },
 "nbformat": 4,
 "nbformat_minor": 5
}
